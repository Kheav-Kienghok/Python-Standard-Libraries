{
 "cells": [
  {
   "cell_type": "code",
   "execution_count": 1,
   "metadata": {},
   "outputs": [],
   "source": [
    "import csv"
   ]
  },
  {
   "cell_type": "code",
   "execution_count": 5,
   "metadata": {},
   "outputs": [
    {
     "name": "stdout",
     "output_type": "stream",
     "text": [
      "Id,Semester,Name,INF_652,CSC_241,ITM_101,ITM_371,COSC_201,URL,Time Spent\n",
      "101,Summer,John,78,89,90,94,88,myschool@gmail.com,23m\n",
      "102,Summer,Jane,85,92,78,87,91,myschool@gmail.com,50m\n",
      "103,Summer,Bob,92,86,89,93,79,mmyschool@gmail.com,30m\n",
      "104,Summer,Alice,79,91,84,,97,myschool@gmail.com,40m\n",
      "105,Summer,Charlie,88,83,90,92,45,myschool@gmail.com,23m\n",
      "106,Summer,David,90,87,93,85,84,myschool@gmail.com,25m\n",
      "107,Summer,Emma,84,90,91,88,86,myschool@gmail.com,22m\n",
      "108,Summer,Frank,91,85,87,89,97,myschool@gmail.com,20m\n",
      "109,Summer,Grace,89,92,86,87,91,myschool@gmail.com,\n",
      "110,Summer,Henry,87,89,94,86,88,myschool@gmail.com,28m\n",
      "111,Summer,Isabel,93,84,91,88,95,myschool@gmail.com,40m\n",
      "112,Summer,Jack,85,90,88,92,89,myschool@gmail.com,39m\n",
      "113,Summer,Kate,88,86,93,91,87,myschool@gmail.com,25m\n",
      "114,Summer,Liam,92,88,89,90,86,,23m\n",
      "115,Summer,Mia,91,87,,92,88, myschool@gmail.com,21m\n",
      "116,Spring,Deddy,89,90,78,95,,myschool@gmail.com,15m\n",
      "117,Spring,Eva,77,,92,88,90,myschool@gmail.com,34m\n",
      "118,Spring,Felix,93,82,89,,85,myschool@gmail.com,45m\n",
      "119,Spring,Grace,85,91,77,93,88,myschool@gmail.com,23m\n",
      "120,Spring,Harry,78,86,95,87,92,myschool@gmail.com,46m\n",
      "121,Spring,Ingrid,92,89,83,90,76,myschool@gmail.com,48m\n",
      "122,Spring,John,89,94,91,85,78,myschool@gmail.com,23m\n",
      "123,Spring,Kate,91,87,89,94,80,myschool@gmail.com,20m\n",
      "124,Spring,Liam,86,90,88,82,95,myschool@gmail.com,15m\n",
      "125,Spring,Mia,88,92,80,,94, myschool@gmail.com,10m\n",
      "126,Spring,Nina,90,84,93,91,87,myschool@gmail.com,50m\n",
      "127,Spring,Oscar,82,95,87,88,84,myschool@gmail.com,48m\n",
      "128,Spring,Paula,94,88,82,86,91,myschool@gmail.com,29m\n",
      "129,Spring,Quincy,79,93,90,84,86,,23m\n",
      "130,Spring,Riley,87,86,94,92,89,myschool@gmail.com,27m\n",
      "131,Spring,Sophia,93,,91,80,86,myschool@gmail.com,23m\n",
      "132,Spring,Travis,85,82,88,94,77,myschool@gmail.com,22m\n",
      "133,Spring,Una,89,94,77,91,86, myschool@gmail.com,23m\n",
      "134,Spring,Vincent,78,91,95,88,78,myschool@gmail.com,28m\n",
      "135,Spring,Wendy,92,85,89,79,90,myschool@gmail.com,29m\n",
      "136,Fall,Sam,89,91,88,85,90, mymyschool@gmail.com,32m\n",
      "137,Fall,Oliver,78,86,92,94,87,myschool@gmail.com,32m\n",
      "138,Fall,Emma,91,,83,88,95, mmyschool@gmail.com,\n",
      "139,Fall,Sophia,85,90,78,92,89,myschool@gmail.com,40m\n"
     ]
    }
   ],
   "source": [
    "with open('apples.csv', 'r') as file:\n",
    "    reader = csv.reader(file, delimiter=',')\n",
    "    for row in reader:\n",
    "        print(','.join(row))"
   ]
  },
  {
   "cell_type": "code",
   "execution_count": 7,
   "metadata": {},
   "outputs": [
    {
     "name": "stdout",
     "output_type": "stream",
     "text": [
      "['Id', 'Semester', 'Name', 'INF_652', 'CSC_241', 'ITM_101', 'ITM_371', 'COSC_201', 'URL', 'Time Spent']\n"
     ]
    }
   ],
   "source": [
    "with open('apples.csv', 'r') as file:\n",
    "    reader = csv.reader(file, delimiter=',')\n",
    "    headers = next(reader)\n",
    "print(headers)"
   ]
  },
  {
   "cell_type": "code",
   "execution_count": 8,
   "metadata": {},
   "outputs": [],
   "source": [
    "headers = [\"Date\", \"Open\", \"High\", \"Low\", \"Close\", \"Volume\"]\n",
    "apple = [\n",
    "    [\n",
    "        \"1984-09-07\",\n",
    "        \"0.4158\",\n",
    "        \"0.4208\",\n",
    "        \"0.4107\",\n",
    "        \"0.4158\",\n",
    "        \"23669718\",\n",
    "    ],\n",
    "    [\n",
    "        \"1984-09-10\",\n",
    "        \"0.4158\",\n",
    "        \"0.4170\",\n",
    "        \"0.4058\",\n",
    "        \"0.4133\",\n",
    "        \"18371562\",\n",
    "    ],\n",
    "    [\n",
    "        \"1984-09-11\",\n",
    "        \"0.4170\",\n",
    "        \"0.4283\",\n",
    "        \"0.4170\",\n",
    "        \"0.4208\",\n",
    "        \"43321235\",\n",
    "    ],\n",
    "]\n",
    " \n",
    "with open(\"apple.csv\", \"w\", newline=\"\") as file:\n",
    "    writer = csv.writer(file, delimiter=\",\")\n",
    "    writer.writerow(headers)\n",
    "    for row in apple:\n",
    "        writer.writerow(row)"
   ]
  },
  {
   "cell_type": "code",
   "execution_count": 10,
   "metadata": {},
   "outputs": [],
   "source": [
    "headers = ['Date', 'Close', 'Volume']\n",
    "apple = [\n",
    "    {\n",
    "        'Date': '1984-09-07',\n",
    "        'Close': 0.41583000000000003,\n",
    "        'Volume': 23669718,\n",
    "    },\n",
    "    {\n",
    "        'Date': '1984-09-10', \n",
    "        'Close': 0.41334, \n",
    "        'Volume': 18371562},\n",
    "    {\n",
    "        'Date': '1984-09-11',\n",
    "        'Close': 0.42086999999999997,\n",
    "        'Volume': 43321235,\n",
    "    },\n",
    "    {\n",
    "        'Date': '1984-09-12',\n",
    "        'Close': 0.40828000000000003,\n",
    "        'Volume': 37844792,\n",
    "    },\n",
    "    {\n",
    "        'Date': '1984-09-13',\n",
    "        'Close': 0.43093000000000004,\n",
    "        'Volume': 58941865,\n",
    "    },\n",
    "    {\n",
    "        'Date': '1984-09-14',\n",
    "        'Close': 0.43718999999999997,\n",
    "        'Volume': 70181304,\n",
    "    },\n",
    "    {\n",
    "        'Date': '1984-09-17',\n",
    "        'Close': 0.44848999999999994,\n",
    "        'Volume': 54796306,\n",
    "    },\n",
    "    {\n",
    "        'Date': '1984-09-18', \n",
    "        'Close': 0.43215, \n",
    "        'Volume': 27662429},\n",
    "    {\n",
    "        'Date': '1984-09-19',\n",
    "        'Close': 0.42336999999999997,\n",
    "        'Volume': 30215978,\n",
    "    },\n",
    "    {\n",
    "        'Date': '1984-09-20', \n",
    "        'Close': 0.42463, \n",
    "        'Volume': 18810964},\n",
    "]\n",
    " \n",
    "with open(\"applse.csv\", \"w\", newline=\"\") as file:\n",
    "    writer = csv.DictWriter(file, fieldnames=headers)\n",
    "    writer.writeheader()\n",
    "    for row in apple:\n",
    "        writer.writerow(row)"
   ]
  }
 ],
 "metadata": {
  "kernelspec": {
   "display_name": "venv",
   "language": "python",
   "name": "python3"
  },
  "language_info": {
   "codemirror_mode": {
    "name": "ipython",
    "version": 3
   },
   "file_extension": ".py",
   "mimetype": "text/x-python",
   "name": "python",
   "nbconvert_exporter": "python",
   "pygments_lexer": "ipython3",
   "version": "3.11.9"
  }
 },
 "nbformat": 4,
 "nbformat_minor": 2
}
