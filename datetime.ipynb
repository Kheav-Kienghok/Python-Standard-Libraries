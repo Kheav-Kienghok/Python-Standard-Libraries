{
 "cells": [
  {
   "cell_type": "markdown",
   "metadata": {},
   "source": [
    "## Date Time Package"
   ]
  },
  {
   "cell_type": "markdown",
   "metadata": {},
   "source": [
    ">>> help(datetime)\n",
    " \n",
    "Help on module datetime:\n",
    " \n",
    "NAME\n",
    "    datetime - Fast implementation of the datetime type.\n",
    " \n",
    "MODULE REFERENCE\n",
    "    https://docs.python.org/3.8/library/datetime\n",
    "    \n",
    "    The following documentation is automatically generated from the Python\n",
    "    source files.  It may be incomplete, incorrect or include features that\n",
    "    are considered implementation detail and may vary between Python\n",
    "    implementations.  When in doubt, consult the module reference at the\n",
    "    location listed above.\n",
    " \n",
    "CLASSES\n",
    "    builtins.object\n",
    "        date\n",
    "            datetime\n",
    "        time\n",
    "        timedelta\n",
    "        tzinfo\n",
    "            timezone"
   ]
  },
  {
   "cell_type": "code",
   "execution_count": 50,
   "metadata": {},
   "outputs": [],
   "source": [
    "import datetime"
   ]
  },
  {
   "cell_type": "code",
   "execution_count": 51,
   "metadata": {},
   "outputs": [
    {
     "name": "stdout",
     "output_type": "stream",
     "text": [
      "2021-01-01\n",
      "2021-07-31\n",
      "1990-05-07\n"
     ]
    }
   ],
   "source": [
    "d1 = datetime.date(2021, 1, 1)\n",
    "d2 = datetime.date(2021, 7, 31)\n",
    "d3 = datetime.date(1990, 5, 7)\n",
    " \n",
    "print(d1)\n",
    "print(d2)\n",
    "print(d3)"
   ]
  },
  {
   "cell_type": "code",
   "execution_count": 52,
   "metadata": {},
   "outputs": [
    {
     "name": "stdout",
     "output_type": "stream",
     "text": [
      "12:00:00\n",
      "06:30:00\n",
      "09:15:00\n"
     ]
    }
   ],
   "source": [
    "d1 = datetime.time(12,00,00)\n",
    "d2 = datetime.time(6,30,00)\n",
    "d3 = datetime.time(9,15,00)\n",
    "\n",
    "print(d1)\n",
    "print(d2)\n",
    "print(d3)"
   ]
  },
  {
   "cell_type": "code",
   "execution_count": 53,
   "metadata": {},
   "outputs": [
    {
     "name": "stdout",
     "output_type": "stream",
     "text": [
      "2020-07-20 11:30:00\n",
      "1990-03-10 12:00:00\n",
      "2021-01-01 00:00:00\n"
     ]
    }
   ],
   "source": [
    "dt1 = datetime.datetime(2020, 7, 20, 11, 30, 0)\n",
    "dt2 = datetime.datetime(1990, 3, 10, 12, 0, 0)\n",
    "dt3 = datetime.datetime(2021, 1, 1, 0, 0, 0)\n",
    " \n",
    "print(dt1)\n",
    "print(dt2)\n",
    "print(dt3)"
   ]
  },
  {
   "cell_type": "code",
   "execution_count": 54,
   "metadata": {},
   "outputs": [
    {
     "name": "stdout",
     "output_type": "stream",
     "text": [
      "Number of days: 163\n"
     ]
    }
   ],
   "source": [
    "d1 = datetime.date(2020, 7, 21)\n",
    "d2 = datetime.date(2020, 12, 31)\n",
    "diff = (d2 - d1).days\n",
    "print(f'Number of days: {diff}')"
   ]
  },
  {
   "cell_type": "code",
   "execution_count": 55,
   "metadata": {},
   "outputs": [
    {
     "name": "stdout",
     "output_type": "stream",
     "text": [
      "214 days, 22:55:00\n"
     ]
    }
   ],
   "source": [
    "dt1 = datetime.datetime(2020, 7, 20, 11, 30, 0)\n",
    "dt2 = datetime.datetime(2021, 2, 20, 10, 25, 0)\n",
    "print(dt2 - dt1)"
   ]
  },
  {
   "cell_type": "code",
   "execution_count": 56,
   "metadata": {},
   "outputs": [],
   "source": [
    "from datetime import datetime, timedelta, date"
   ]
  },
  {
   "cell_type": "code",
   "execution_count": 57,
   "metadata": {},
   "outputs": [
    {
     "name": "stdout",
     "output_type": "stream",
     "text": [
      "2021-04-20\n",
      "20-04-2021\n",
      "04-2021\n",
      "April-2021\n",
      "20 April, 2021\n",
      "2021-04-20 11:30:00\n",
      "04/20/21 11:30:00\n",
      "20(Tue) April 2021\n"
     ]
    }
   ],
   "source": [
    "dt1 = datetime(2021, 4, 20, 11, 30, 00)\n",
    " \n",
    "print(dt1.strftime('%Y-%m-%d'))\n",
    "print(dt1.strftime('%d-%m-%Y'))\n",
    "print(dt1.strftime('%m-%Y'))\n",
    "print(dt1.strftime('%B-%Y'))\n",
    "print(dt1.strftime('%d %B, %Y'))\n",
    "print(dt1.strftime('%Y-%m-%d %H:%M:%S'))\n",
    "print(dt1.strftime('%m/%d/%y %H:%M:%S'))\n",
    "print(dt1.strftime('%d(%a) %B %Y'))"
   ]
  },
  {
   "cell_type": "code",
   "execution_count": 58,
   "metadata": {},
   "outputs": [
    {
     "name": "stdout",
     "output_type": "stream",
     "text": [
      "1995-03-03 00:00:00\n",
      "1995-09-03 00:00:00\n",
      "2021-07-21 00:00:00\n"
     ]
    }
   ],
   "source": [
    "date_str_1 = '3 March 1995'\n",
    "date_str_2 = '3/9/1995'\n",
    "date_str_3 = '21-07-2021'\n",
    " \n",
    "dt1 = datetime.strptime(date_str_1, '%d %B %Y')\n",
    "dt2 = datetime.strptime(date_str_2, '%d/%m/%Y')\n",
    "dt3 = datetime.strptime(date_str_3, '%d-%m-%Y')\n",
    " \n",
    "print(dt1)\n",
    "print(dt2)\n",
    "print(dt3)"
   ]
  },
  {
   "cell_type": "code",
   "execution_count": 59,
   "metadata": {},
   "outputs": [
    {
     "name": "stdout",
     "output_type": "stream",
     "text": [
      "Number of days until the end of the year: 104\n"
     ]
    }
   ],
   "source": [
    "today = date.today()\n",
    "end_of_year = date(today.year, 12, 31)\n",
    "diff = (end_of_year - today).days\n",
    "print(f'Number of days until the end of the year: {diff}')"
   ]
  },
  {
   "cell_type": "code",
   "execution_count": 60,
   "metadata": {},
   "outputs": [
    {
     "name": "stdout",
     "output_type": "stream",
     "text": [
      "Until the end of the year: 104 days, 3:50:09.724120\n"
     ]
    }
   ],
   "source": [
    "now = datetime.now()\n",
    "end_of_year = datetime(now.year + 1, 1, 1)\n",
    "diff = end_of_year - now\n",
    "print(f'Until the end of the year: {diff}')"
   ]
  },
  {
   "cell_type": "code",
   "execution_count": 61,
   "metadata": {},
   "outputs": [
    {
     "name": "stdout",
     "output_type": "stream",
     "text": [
      "2020-01-08 00:00:00\n",
      "2020-01-31 00:00:00\n",
      "2020-01-02 06:00:00\n",
      "2020-01-01 00:15:00\n"
     ]
    }
   ],
   "source": [
    "dt = datetime(2020, 1, 1)\n",
    " \n",
    "print(dt + timedelta(days=7))\n",
    "print(dt + timedelta(days=30))\n",
    "print(dt + timedelta(hours=30))\n",
    "print(dt + timedelta(minutes=15))"
   ]
  },
  {
   "cell_type": "code",
   "execution_count": 62,
   "metadata": {},
   "outputs": [
    {
     "name": "stdout",
     "output_type": "stream",
     "text": [
      "2020-01-01 00:00:00\n",
      "2020-01-01 08:00:00\n",
      "2020-01-01 16:00:00\n",
      "2020-01-02 00:00:00\n",
      "2020-01-02 08:00:00\n",
      "2020-01-02 16:00:00\n",
      "2020-01-03 00:00:00\n",
      "2020-01-03 08:00:00\n",
      "2020-01-03 16:00:00\n",
      "2020-01-04 00:00:00\n",
      "2020-01-04 08:00:00\n",
      "2020-01-04 16:00:00\n"
     ]
    }
   ],
   "source": [
    "dt = datetime(2020, 1, 1)\n",
    "delta = timedelta(hours=8)\n",
    " \n",
    "dates = [dt + i * delta for i in range(12)]\n",
    " \n",
    "for date in dates:\n",
    "    print(date)"
   ]
  },
  {
   "cell_type": "code",
   "execution_count": 69,
   "metadata": {},
   "outputs": [],
   "source": [
    "import datetime"
   ]
  },
  {
   "cell_type": "code",
   "execution_count": 70,
   "metadata": {},
   "outputs": [
    {
     "name": "stdout",
     "output_type": "stream",
     "text": [
      "Future value: $ 1020.26\n"
     ]
    }
   ],
   "source": [
    "rate = 0.04\n",
    "pv = 1000\n",
    "daily_rate = rate / 365.0\n",
    " \n",
    "d1 = datetime.date(2021, 7, 1)\n",
    "d2 = datetime.date(2021, 12, 31)\n",
    "duration = d2 - d1\n",
    " \n",
    "fv = pv * (1 + daily_rate) ** duration.days\n",
    "print(f'Future value: $ {fv:.2f}')"
   ]
  }
 ],
 "metadata": {
  "kernelspec": {
   "display_name": "venv",
   "language": "python",
   "name": "python3"
  },
  "language_info": {
   "codemirror_mode": {
    "name": "ipython",
    "version": 3
   },
   "file_extension": ".py",
   "mimetype": "text/x-python",
   "name": "python",
   "nbconvert_exporter": "python",
   "pygments_lexer": "ipython3",
   "version": "3.11.9"
  }
 },
 "nbformat": 4,
 "nbformat_minor": 2
}
