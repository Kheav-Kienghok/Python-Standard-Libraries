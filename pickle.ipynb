{
 "cells": [
  {
   "cell_type": "markdown",
   "metadata": {},
   "source": [
    "Help on module pickle:\n",
    " \n",
    "NAME\n",
    "    pickle - Create portable serialized representations of Python objects.\n",
    " \n",
    "MODULE REFERENCE\n",
    "    https://docs.python.org/3.8/library/pickle\n",
    "    \n",
    "    The following documentation is automatically generated from the Python\n",
    "    source files.  It may be incomplete, incorrect or include features that\n",
    "    are considered implementation detail and may vary between Python\n",
    "    implementations.  When in doubt, consult the module reference at the\n",
    "    location listed above.\n",
    " \n",
    "DESCRIPTION\n",
    "    See module copyreg for a mechanism for registering custom picklers.\n",
    "    See module pickletools source for extensive comments."
   ]
  },
  {
   "cell_type": "code",
   "execution_count": 1,
   "metadata": {},
   "outputs": [],
   "source": [
    "import pickle"
   ]
  },
  {
   "cell_type": "code",
   "execution_count": 3,
   "metadata": {},
   "outputs": [],
   "source": [
    "tesla = {\n",
    "    'Close': {\n",
    "        0: 1499.11,\n",
    "        1: 1476.49,\n",
    "        2: 1539.6,\n",
    "        3: 1417.0,\n",
    "        4: 1513.07,\n",
    "        5: 1592.33,\n",
    "        6: 1568.36,\n",
    "        7: 1643.0,\n",
    "        8: 1500.84,\n",
    "        9: 1500.64,\n",
    "    },\n",
    "    'Date': {\n",
    "        0: '2020-07-29',\n",
    "        1: '2020-07-28',\n",
    "        2: '2020-07-27',\n",
    "        3: '2020-07-24',\n",
    "        4: '2020-07-23',\n",
    "        5: '2020-07-22',\n",
    "        6: '2020-07-21',\n",
    "        7: '2020-07-20',\n",
    "        8: '2020-07-17',\n",
    "        9: '2020-07-16',\n",
    "    },\n",
    "}\n",
    " \n",
    "tesla_close = tesla['Close']\n",
    " \n",
    "with open('./additional/tesla.pkl', 'wb') as file:\n",
    "    pickle.dump(tesla_close, file)"
   ]
  },
  {
   "cell_type": "code",
   "execution_count": 5,
   "metadata": {},
   "outputs": [
    {
     "name": "stdout",
     "output_type": "stream",
     "text": [
      "{0: 1499.11, 1: 1476.49, 2: 1539.6, 3: 1417.0, 4: 1513.07, 5: 1592.33, 6: 1568.36, 7: 1643.0, 8: 1500.84, 9: 1500.64}\n"
     ]
    }
   ],
   "source": [
    "tesla = {\n",
    "    'Close': {\n",
    "        0: 1499.11,\n",
    "        1: 1476.49,\n",
    "        2: 1539.6,\n",
    "        3: 1417.0,\n",
    "        4: 1513.07,\n",
    "        5: 1592.33,\n",
    "        6: 1568.36,\n",
    "        7: 1643.0,\n",
    "        8: 1500.84,\n",
    "        9: 1500.64,\n",
    "    },\n",
    "    'Date': {\n",
    "        0: '2020-07-29',\n",
    "        1: '2020-07-28',\n",
    "        2: '2020-07-27',\n",
    "        3: '2020-07-24',\n",
    "        4: '2020-07-23',\n",
    "        5: '2020-07-22',\n",
    "        6: '2020-07-21',\n",
    "        7: '2020-07-20',\n",
    "        8: '2020-07-17',\n",
    "        9: '2020-07-16',\n",
    "    },\n",
    "}\n",
    " \n",
    "tesla_close = tesla['Close']\n",
    " \n",
    "with open('tesla.pkl', 'wb') as file:\n",
    "    pickle.dump(tesla_close, file)\n",
    " \n",
    "with open('./additional/tesla.pkl', 'rb') as file:\n",
    "    tesla_loaded = pickle.load(file)\n",
    " \n",
    "print(tesla_loaded)"
   ]
  },
  {
   "cell_type": "code",
   "execution_count": 7,
   "metadata": {},
   "outputs": [
    {
     "name": "stdout",
     "output_type": "stream",
     "text": [
      "Mark\n",
      "24\n",
      "185\n"
     ]
    }
   ],
   "source": [
    "class Person:\n",
    "    \n",
    "    def __init__(self, name, age, height):\n",
    "        self.name = name\n",
    "        self.age = age\n",
    "        self.height = height\n",
    "        \n",
    " \n",
    "person = Person('Mark', 24, 185)\n",
    " \n",
    "for attr in person.__dict__.keys():\n",
    "    print(getattr(person, attr))"
   ]
  },
  {
   "cell_type": "code",
   "execution_count": 9,
   "metadata": {},
   "outputs": [],
   "source": [
    "class Person:\n",
    "    \n",
    "    def __init__(self, name, age, height):\n",
    "        self.name = name\n",
    "        self.age = age\n",
    "        self.height = 185\n",
    "        \n",
    " \n",
    "person = Person('Mark', 24, 185)\n",
    " \n",
    "with open('./additional/person.pkl', 'wb') as file:\n",
    "    pickle.dump(person, file)"
   ]
  },
  {
   "cell_type": "code",
   "execution_count": 11,
   "metadata": {},
   "outputs": [
    {
     "name": "stdout",
     "output_type": "stream",
     "text": [
      "Mark\n",
      "24\n",
      "185\n"
     ]
    }
   ],
   "source": [
    "class Person:\n",
    "    \n",
    "    def __init__(self, name, age, height):\n",
    "        self.name = name\n",
    "        self.age = age\n",
    "        self.height = height\n",
    "        \n",
    " \n",
    "person = Person('Mark', 24, 185)\n",
    " \n",
    "with open('person.pkl', 'wb') as file:\n",
    "    pickle.dump(person, file)\n",
    "    \n",
    "with open('./additional/person.pkl', 'rb') as file:\n",
    "    person_loaded = pickle.load(file)\n",
    "    \n",
    "for attr in person.__dict__.keys():\n",
    "    print(getattr(person, attr))"
   ]
  },
  {
   "cell_type": "code",
   "execution_count": null,
   "metadata": {},
   "outputs": [],
   "source": []
  }
 ],
 "metadata": {
  "kernelspec": {
   "display_name": "venv",
   "language": "python",
   "name": "python3"
  },
  "language_info": {
   "codemirror_mode": {
    "name": "ipython",
    "version": 3
   },
   "file_extension": ".py",
   "mimetype": "text/x-python",
   "name": "python",
   "nbconvert_exporter": "python",
   "pygments_lexer": "ipython3",
   "version": "3.11.9"
  }
 },
 "nbformat": 4,
 "nbformat_minor": 2
}
