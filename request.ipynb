{
 "cells": [
  {
   "cell_type": "markdown",
   "metadata": {},
   "source": [
    "Help on module urllib.request in urllib:\n",
    " \n",
    "NAME\n",
    "    urllib.request - An extensible library for opening URLs using a variety of protocols\n",
    " \n",
    "MODULE REFERENCE\n",
    "    https://docs.python.org/3.8/library/urllib.request\n",
    "    \n",
    "    The following documentation is automatically generated from the Python\n",
    "    source files.  It may be incomplete, incorrect or include features that\n",
    "    are considered implementation detail and may vary between Python\n",
    "    implementations.  When in doubt, consult the module reference at the\n",
    "    location listed above.\n",
    " \n",
    "DESCRIPTION\n",
    "    The simplest way to use this module is to call the urlopen function,\n",
    "    which accepts a string containing a URL or a Request object (described\n",
    "    below).  It opens the URL and returns the results as file-like\n",
    "    object; the returned object has some extra methods described below.\n",
    "    \n",
    "    The OpenerDirector manages a collection of Handler objects that do\n",
    "    all the actual work.  Each Handler implements a particular protocol or\n",
    "    option.  The OpenerDirector is a composite object that invokes the\n",
    "    Handlers needed to open the requested URL.  For example, the\n",
    "    HTTPHandler performs HTTP GET and POST requests and deals with\n",
    "    non-error returns.  The HTTPRedirectHandler automatically deals with\n",
    "    HTTP 301, 302, 303 and 307 redirect errors, and the HTTPDigestAuthHandler\n",
    "    deals with digest authentication.\n",
    "    \n",
    "    urlopen(url, data=None) -- Basic usage is the same as original\n",
    "    urllib.  pass the url and optionally data to post to an HTTP URL, and\n",
    "    get a file-like object back.  One difference is that you can also pass\n",
    "    a Request instance instead of URL.  Raises a URLError (subclass of\n",
    "    OSError); for HTTP errors, raises an HTTPError, which can also be\n",
    "    treated as a valid response.\n",
    "    \n",
    "    build_opener -- Function that creates a new OpenerDirector instance.\n",
    "    Will install the default handlers.  Accepts one or more Handlers as\n",
    "    arguments, either instances or Handler classes that it will\n",
    "    instantiate.  If one of the argument is a subclass of the default\n",
    "    handler, the argument will be installed instead of the default.\n",
    "    \n",
    "    install_opener -- Installs a new opener as the default opener.\n",
    "    \n",
    "    objects of interest:\n",
    "    \n",
    "    OpenerDirector -- Sets up the User Agent as the Python-urllib client and manages\n",
    "    the Handler classes, while dealing with requests and responses.\n",
    "    \n",
    "    Request -- An object that encapsulates the state of a request.  The\n",
    "    state can be as simple as the URL.  It can also include extra HTTP\n",
    "    headers, e.g. a User-Agent.\n",
    "    \n",
    "    BaseHandler --\n",
    "    \n",
    "    internals:\n",
    "    BaseHandler and parent\n",
    "    _call_chain conventions\n",
    "    \n",
    "    Example usage:\n",
    "    \n",
    "    import urllib.request\n",
    "    \n",
    "    # set up authentication info\n",
    "    authinfo = urllib.request.HTTPBasicAuthHandler()\n",
    "    authinfo.add_password(realm='PDQ Application',\n",
    "                          uri='https://mahler:8092/site-updates.py',\n",
    "                          user='klem',\n",
    "                          passwd='geheim$parole')\n",
    "    \n",
    "    proxy_support = urllib.request.ProxyHandler({\"http\" : \"http://ahad-haam:3128\"})\n",
    "    \n",
    "    # build a new opener that adds authentication and caching FTP handlers\n",
    "    opener = urllib.request.build_opener(proxy_support, authinfo,\n",
    "                                         urllib.request.CacheFTPHandler)\n",
    "    \n",
    "    # install it\n",
    "    urllib.request.install_opener(opener)\n",
    "    \n",
    "    f = urllib.request.urlopen('http://www.python.org/')"
   ]
  },
  {
   "cell_type": "code",
   "execution_count": 1,
   "metadata": {},
   "outputs": [],
   "source": [
    "import urllib.request"
   ]
  },
  {
   "cell_type": "code",
   "execution_count": 2,
   "metadata": {},
   "outputs": [
    {
     "name": "stdout",
     "output_type": "stream",
     "text": [
      "<!doctype html>\n",
      "<!--[if lt IE 7]>   <html class=\"no-js ie6 lt-ie7 lt-ie8 lt-ie9\">   <![endif]-->\n"
     ]
    }
   ],
   "source": [
    "with urllib.request.urlopen('http://python.org') as response:\n",
    "    html = response.read().decode('utf-8')\n",
    "    \n",
    "print(html[:96])"
   ]
  },
  {
   "cell_type": "code",
   "execution_count": 3,
   "metadata": {},
   "outputs": [],
   "source": [
    "from urllib.request import urlopen"
   ]
  },
  {
   "cell_type": "code",
   "execution_count": 4,
   "metadata": {},
   "outputs": [
    {
     "name": "stdout",
     "output_type": "stream",
     "text": [
      "<!doctype html>\n",
      "<!--[if lt IE 7]>   <html class=\"no-js ie6 lt-ie7 lt-ie8 lt-ie9\">   <![endif]-->\n",
      "<!--[if IE 7]>      <html class=\"no-js ie7 lt-ie8 lt-ie9\">          <![endif]-->\n",
      "<!--[if IE 8]>      <html class=\"no-js ie8 lt-ie9\">                 <![endif]-->\n",
      "<!--[if gt IE 8]><!--><html class=\"no-js\" lang=\"en\" dir=\"ltr\">  <!--<![endif]-->\n"
     ]
    }
   ],
   "source": [
    "with urlopen('http://python.org') as response:\n",
    "    html = response.read().decode('utf-8')\n",
    "    lines = [line.strip() for line in html.splitlines() if line][:5]\n",
    " \n",
    "for line in lines:\n",
    "    print(line)"
   ]
  }
 ],
 "metadata": {
  "kernelspec": {
   "display_name": "venv",
   "language": "python",
   "name": "python3"
  },
  "language_info": {
   "codemirror_mode": {
    "name": "ipython",
    "version": 3
   },
   "file_extension": ".py",
   "mimetype": "text/x-python",
   "name": "python",
   "nbconvert_exporter": "python",
   "pygments_lexer": "ipython3",
   "version": "3.11.9"
  }
 },
 "nbformat": 4,
 "nbformat_minor": 2
}
