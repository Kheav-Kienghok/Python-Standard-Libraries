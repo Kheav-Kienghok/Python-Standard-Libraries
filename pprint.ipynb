{
 "cells": [
  {
   "cell_type": "markdown",
   "metadata": {},
   "source": [
    "Help on module pprint:\n",
    " \n",
    "NAME\n",
    "    pprint - Support to pretty-print lists, tuples, & dictionaries recursively.\n",
    " \n",
    "MODULE REFERENCE\n",
    "    https://docs.python.org/3.8/library/pprint\n",
    "    \n",
    "    The following documentation is automatically generated from the Python\n",
    "    source files.  It may be incomplete, incorrect or include features that\n",
    "    are considered implementation detail and may vary between Python\n",
    "    implementations.  When in doubt, consult the module reference at the\n",
    "    location listed above.\n",
    " \n",
    "DESCRIPTION\n",
    "    Very simple, but useful, especially in debugging data structures.\n",
    "    \n",
    "    Classes\n",
    "    -------\n",
    "    \n",
    "    PrettyPrinter()\n",
    "        Handle pretty-printing operations onto a stream using a configured\n",
    "        set of formatting parameters.\n",
    "    \n",
    "    Functions\n",
    "    ---------\n",
    "    \n",
    "    pformat()\n",
    "        Format a Python object into a pretty-printed representation.\n",
    "    \n",
    "    pprint()\n",
    "        Pretty-print a Python object to a stream [default is sys.stdout].\n",
    "    \n",
    "    saferepr()\n",
    "        Generate a 'standard' repr()-like value, but protect against recursive\n",
    "        data structures."
   ]
  },
  {
   "cell_type": "code",
   "execution_count": 1,
   "metadata": {},
   "outputs": [],
   "source": [
    "from pprint import pprint"
   ]
  },
  {
   "cell_type": "code",
   "execution_count": 10,
   "metadata": {},
   "outputs": [
    {
     "name": "stdout",
     "output_type": "stream",
     "text": [
      "{'users': [{'userId': 1, 'firstName': 'Krish', 'lastName': 'Lee', 'emailAddress': 'krish.lee@example.com'}, {'userId': 2, 'firstName': 'racks', 'lastName': 'jacson', 'emailAddress': 'racks.jacson@example.com'}, {'userId': 3, 'firstName': 'denial', 'lastName': 'roast', 'emailAddress': 'denial.roast@example.com'}]}\n",
      "==========================================================================================================================================================================================================================================================================================================================================\n",
      "{'users': [{'emailAddress': 'krish.lee@example.com',\n",
      "            'firstName': 'Krish',\n",
      "            'lastName': 'Lee',\n",
      "            'userId': 1},\n",
      "           {'emailAddress': 'racks.jacson@example.com',\n",
      "            'firstName': 'racks',\n",
      "            'lastName': 'jacson',\n",
      "            'userId': 2},\n",
      "           {'emailAddress': 'denial.roast@example.com',\n",
      "            'firstName': 'denial',\n",
      "            'lastName': 'roast',\n",
      "            'userId': 3}]}\n"
     ]
    }
   ],
   "source": [
    "data_dict = {\n",
    "    \"users\": [\n",
    "        {\n",
    "            \"userId\": 1,\n",
    "            \"firstName\": \"Krish\",\n",
    "            \"lastName\": \"Lee\",\n",
    "            \"emailAddress\": \"krish.lee@example.com\"\n",
    "        },\n",
    "        {\n",
    "            \"userId\": 2,\n",
    "            \"firstName\": \"racks\",\n",
    "            \"lastName\": \"jacson\",\n",
    "            \"emailAddress\": \"racks.jacson@example.com\"\n",
    "        },\n",
    "        {\n",
    "            \"userId\": 3,\n",
    "            \"firstName\": \"denial\",\n",
    "            \"lastName\": \"roast\",\n",
    "            \"emailAddress\": \"denial.roast@example.com\"\n",
    "        }\n",
    "    ]\n",
    "}\n",
    "print(data_dict)\n",
    "print(\"=\" * 330)\n",
    "pprint(data_dict)"
   ]
  }
 ],
 "metadata": {
  "kernelspec": {
   "display_name": "venv",
   "language": "python",
   "name": "python3"
  },
  "language_info": {
   "codemirror_mode": {
    "name": "ipython",
    "version": 3
   },
   "file_extension": ".py",
   "mimetype": "text/x-python",
   "name": "python",
   "nbconvert_exporter": "python",
   "pygments_lexer": "ipython3",
   "version": "3.11.9"
  }
 },
 "nbformat": 4,
 "nbformat_minor": 2
}
