{
 "cells": [
  {
   "cell_type": "markdown",
   "metadata": {},
   "source": [
    "Help on module operator:\n",
    " \n",
    "NAME\n",
    "    operator - Operator interface.\n",
    " \n",
    "MODULE REFERENCE\n",
    "    https://docs.python.org/3.8/library/operator\n",
    "    \n",
    "    The following documentation is automatically generated from the Python\n",
    "    source files.  It may be incomplete, incorrect or include features that\n",
    "    are considered implementation detail and may vary between Python\n",
    "    implementations.  When in doubt, consult the module reference at the\n",
    "    location listed above.\n",
    " \n",
    "DESCRIPTION\n",
    "    This module exports a set of functions implemented in C corresponding\n",
    "    to the intrinsic operators of Python.  For example, operator.add(x, y)\n",
    "    is equivalent to the expression x+y.  The function names are those\n",
    "    used for special methods; variants without leading and trailing\n",
    "    '__' are also provided for convenience."
   ]
  },
  {
   "cell_type": "code",
   "execution_count": 1,
   "metadata": {},
   "outputs": [],
   "source": [
    "import operator"
   ]
  },
  {
   "cell_type": "code",
   "execution_count": 2,
   "metadata": {},
   "outputs": [
    {
     "name": "stdout",
     "output_type": "stream",
     "text": [
      "0.6\n",
      "2\n",
      "1\n",
      "256\n",
      "2\n"
     ]
    }
   ],
   "source": [
    "print(operator.truediv(3, 5))\n",
    "print(operator.floordiv(5, 2))\n",
    "print(operator.mod(10, 3))\n",
    "print(operator.pow(2, 8))\n",
    "print(operator.xor(1, 3))"
   ]
  },
  {
   "cell_type": "code",
   "execution_count": 4,
   "metadata": {},
   "outputs": [
    {
     "name": "stdout",
     "output_type": "stream",
     "text": [
      "True\n",
      "5\n"
     ]
    }
   ],
   "source": [
    "numbers = [3, 4, 5]\n",
    " \n",
    "print(operator.contains(numbers, 4))\n",
    "print(operator.getitem(numbers, 2))"
   ]
  }
 ],
 "metadata": {
  "kernelspec": {
   "display_name": "venv",
   "language": "python",
   "name": "python3"
  },
  "language_info": {
   "codemirror_mode": {
    "name": "ipython",
    "version": 3
   },
   "file_extension": ".py",
   "mimetype": "text/x-python",
   "name": "python",
   "nbconvert_exporter": "python",
   "pygments_lexer": "ipython3",
   "version": "3.11.9"
  }
 },
 "nbformat": 4,
 "nbformat_minor": 2
}
