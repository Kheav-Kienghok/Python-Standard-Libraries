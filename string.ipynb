{
 "cells": [
  {
   "cell_type": "markdown",
   "metadata": {},
   "source": [
    ">>> help(string)\n",
    " \n",
    "Help on module string:\n",
    " \n",
    "NAME\n",
    "    string - A collection of string constants.\n",
    " \n",
    "MODULE REFERENCE\n",
    "    https://docs.python.org/3.8/library/string\n",
    "    \n",
    "    The following documentation is automatically generated from the Python\n",
    "    source files.  It may be incomplete, incorrect or include features that\n",
    "    are considered implementation detail and may vary between Python\n",
    "    implementations.  When in doubt, consult the module reference at the\n",
    "    location listed above.\n",
    " \n",
    "DESCRIPTION\n",
    "    Public module variables:\n",
    "    \n",
    "    whitespace -- a string containing all ASCII whitespace\n",
    "    ascii_lowercase -- a string containing all ASCII lowercase letters\n",
    "    ascii_uppercase -- a string containing all ASCII uppercase letters\n",
    "    ascii_letters -- a string containing all ASCII letters\n",
    "    digits -- a string containing all ASCII decimal digits\n",
    "    hexdigits -- a string containing all ASCII hexadecimal digits\n",
    "    octdigits -- a string containing all ASCII octal digits\n",
    "    punctuation -- a string containing all ASCII punctuation characters\n",
    "    printable -- a string containing all ASCII characters considered printable"
   ]
  },
  {
   "cell_type": "code",
   "execution_count": 1,
   "metadata": {},
   "outputs": [],
   "source": [
    "import string"
   ]
  },
  {
   "cell_type": "code",
   "execution_count": 2,
   "metadata": {},
   "outputs": [
    {
     "name": "stdout",
     "output_type": "stream",
     "text": [
      "surjudpplqj lq sbwkrq\n"
     ]
    }
   ],
   "source": [
    "docs = 'programming in python'\n",
    "code_map = dict((enumerate(string.ascii_lowercase)))\n",
    "code_map_inv = {val: key for key, val in code_map.items()}\n",
    " \n",
    "result = ''\n",
    "for char in docs:\n",
    "    if char == ' ':\n",
    "        result += ' '\n",
    "        continue\n",
    "    idx = (code_map_inv[char] + 3) % 26\n",
    "    result += code_map[idx]\n",
    " \n",
    "print(result)"
   ]
  },
  {
   "cell_type": "code",
   "execution_count": 3,
   "metadata": {},
   "outputs": [],
   "source": [
    "from string import Template"
   ]
  },
  {
   "cell_type": "code",
   "execution_count": 5,
   "metadata": {},
   "outputs": [
    {
     "name": "stdout",
     "output_type": "stream",
     "text": [
      "Hello John,\n",
      " \n",
      "Thank you for visiting our website.\n",
      "Team, XYZ\n",
      "-----------------------------------\n",
      "Hello Paul,\n",
      " \n",
      "Thank you for visiting our website.\n",
      "Team, XYZ\n",
      "-----------------------------------\n",
      "Hello Lisa,\n",
      " \n",
      "Thank you for visiting our website.\n",
      "Team, XYZ\n",
      "-----------------------------------\n",
      "Hello Michael,\n",
      " \n",
      "Thank you for visiting our website.\n",
      "Team, XYZ\n",
      "-----------------------------------\n"
     ]
    }
   ],
   "source": [
    "names = ['John', 'Paul', 'Lisa', 'Michael']\n",
    " \n",
    "email = \"\"\"Hello $name,\n",
    " \n",
    "Thank you for visiting our website.\n",
    "Team, XYZ\"\"\"\n",
    " \n",
    "template = Template(email)\n",
    " \n",
    "for name in names:\n",
    "    print(template.substitute(name = name))\n",
    "    print('-' * 35)"
   ]
  }
 ],
 "metadata": {
  "kernelspec": {
   "display_name": "venv",
   "language": "python",
   "name": "python3"
  },
  "language_info": {
   "codemirror_mode": {
    "name": "ipython",
    "version": 3
   },
   "file_extension": ".py",
   "mimetype": "text/x-python",
   "name": "python",
   "nbconvert_exporter": "python",
   "pygments_lexer": "ipython3",
   "version": "3.11.9"
  }
 },
 "nbformat": 4,
 "nbformat_minor": 2
}
